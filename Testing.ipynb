{
  "nbformat": 4,
  "nbformat_minor": 0,
  "metadata": {
    "colab": {
      "provenance": [],
      "authorship_tag": "ABX9TyPfoE+3szwjb4+SziW4f8p+",
      "include_colab_link": true
    },
    "kernelspec": {
      "name": "python3",
      "display_name": "Python 3"
    },
    "language_info": {
      "name": "python"
    }
  },
  "cells": [
    {
      "cell_type": "markdown",
      "metadata": {
        "id": "view-in-github",
        "colab_type": "text"
      },
      "source": [
        "<a href=\"https://colab.research.google.com/github/Kartikgc9/Model.Predict/blob/main/Testing.ipynb\" target=\"_parent\"><img src=\"https://colab.research.google.com/assets/colab-badge.svg\" alt=\"Open In Colab\"/></a>"
      ]
    },
    {
      "cell_type": "code",
      "execution_count": null,
      "metadata": {
        "id": "DfgIyAR6KsEx"
      },
      "outputs": [],
      "source": [
        "import pandas as pd\n",
        "import numpy as np\n",
        "\n",
        "import matplotlib.pyplot as plt\n",
        "\n",
        "from pyts.image import GramianAngularField\n",
        "\n",
        "from sklearn.preprocessing import StandardScaler\n",
        "import datetime\n",
        "\n",
        "import tensorflow as tf\n",
        "from tensorflow import keras\n",
        "from tensorflow.python.keras import layers\n",
        "from sklearn.metrics import confusion_matrix\n",
        "from keras.models import Sequential\n",
        "from keras.layers import Conv2D, MaxPooling2D, Flatten, Dense, Dropout, InputLayer\n",
        "from keras.optimizers import Adam"
      ]
    },
    {
      "cell_type": "code",
      "source": [
        "## Load the data\n",
        "cloudburst_data = np.load('CB18.npy')\n",
        "non_cloudburst_data = np.load('NB.npy')\n",
        "\n",
        "print(cloudburst_data.shape)\n",
        "print(non_cloudburst_data.shape)\n",
        "\n",
        "# Combine the cloudburst and non-cloudburst data into one array\n",
        "X = np.concatenate((cloudburst_data, non_cloudburst_data))\n",
        "\n",
        "# Create a target vector (1 for cloudburst, 0 for non-cloudburst)\n",
        "y = np.concatenate((np.ones(cloudburst_data.shape[0]), np.zeros(non_cloudburst_data.shape[0])))\n",
        "\n",
        "# Shuffle the data\n",
        "shuffle_index = np.random.permutation(X.shape[0])\n",
        "X = X[shuffle_index]\n",
        "y = y[shuffle_index]\n",
        "\n",
        "print(X.shape)\n",
        "print(y.shape)"
      ],
      "metadata": {
        "id": "ausafLd_Kw_6"
      },
      "execution_count": null,
      "outputs": []
    },
    {
      "cell_type": "code",
      "source": [
        "import matplotlib.pyplot as plt\n",
        "import matplotlib.font_manager as fm\n",
        "\n",
        "# Define the font properties\n",
        "font = fm.FontProperties(family='Times New Roman', size=10)\n",
        "\n",
        "# Define the labels for each image\n",
        "labels = [\"RAIN FALL CUM. SINCE 0300 UTC (mm)\", \"TEMP. ('C)\", \"RH (%)\", \"WIND SPEED 10 m (Kt)\", \"SLP (hPa)\", \"MSLP (hPa / gpm)\"]\n",
        "\n",
        "# Create a 2x3 grid of subplots\n",
        "fig, axs = plt.subplots(nrows=2, ncols=3, figsize=(10, 6))\n",
        "\n",
        "# Loop through each image and its corresponding label, and display it in the corresponding subplot\n",
        "for i in range(6):\n",
        "    row = i // 3\n",
        "    col = i % 3\n",
        "    axs[row, col].imshow(X[0][i])\n",
        "    axs[row, col].set_title(labels[i], fontproperties=font)\n",
        "\n",
        "# Show the plot\n",
        "plt.tight_layout()\n",
        "plt.show()\n"
      ],
      "metadata": {
        "id": "GQbdXqQ0KxOC"
      },
      "execution_count": null,
      "outputs": []
    },
    {
      "cell_type": "code",
      "source": [
        "import matplotlib.pyplot as plt\n",
        "import matplotlib.font_manager as fm\n",
        "\n",
        "# Define the font properties\n",
        "font = fm.FontProperties(family='Times New Roman', size=10)\n",
        "\n",
        "# Define the labels for each image\n",
        "labels = [\"RAIN FALL CUM. SINCE 0300 UTC (mm)\", \"TEMP. ('C)\", \"RH (%)\", \"WIND SPEED 10 m (Kt)\", \"SLP (hPa)\", \"MSLP (hPa / gpm)\"]\n",
        "\n",
        "# Create a 3x2 grid of subplots\n",
        "fig, axs = plt.subplots(nrows=3, ncols=2, figsize=(8, 10))\n",
        "\n",
        "# Loop through each pair of images and their corresponding labels, and display them in the corresponding subplots\n",
        "for i in range(3):\n",
        "    for j in range(2):\n",
        "        idx = 2*i+j\n",
        "        axs[i, j].imshow(X[1][idx])\n",
        "        axs[i, j].set_title(labels[idx], fontproperties=font)\n",
        "\n",
        "# Show the plot\n",
        "plt.tight_layout()\n",
        "plt.show()\n"
      ],
      "metadata": {
        "id": "BcketWnoKxeS"
      },
      "execution_count": null,
      "outputs": []
    },
    {
      "cell_type": "code",
      "source": [
        "from keras.models import load_model\n",
        "\n",
        "model = load_model('Model6.h5')"
      ],
      "metadata": {
        "id": "tC16bAMeK1vT"
      },
      "execution_count": null,
      "outputs": []
    },
    {
      "cell_type": "code",
      "source": [
        "from sklearn.metrics import confusion_matrix, precision_recall_fscore_support\n",
        "\n",
        "# Calculate and print the confusion matrix\n",
        "y_pred = np.round(model.predict(X)).flatten()\n",
        "y_true = y.flatten()\n",
        "cm = confusion_matrix(y_true, y_pred)\n",
        "print(\"Confusion Matrix:\")\n",
        "print(cm)\n",
        "\n",
        "accuracy = (cm[0,0]+cm[1,1])/(cm[0,0]+cm[0,1]+cm[1,0]+cm[1,1])\n",
        "print(\"Accuracy:\", accuracy)\n",
        "\n",
        "# Calculate and print the F1-score and recall\n",
        "precision, recall, f1_score, _ = precision_recall_fscore_support(y_true, y_pred, average='binary')\n",
        "print(\"Precision:\", precision)\n",
        "print(\"Recall:\", recall)\n",
        "print(\"F1-score:\", f1_score)\n"
      ],
      "metadata": {
        "id": "fGJcVwrFK2-r"
      },
      "execution_count": null,
      "outputs": []
    },
    {
      "cell_type": "code",
      "source": [
        "test = np.load('TEST6.npy')\n",
        "print(test.shape)\n",
        "prediction = model.predict(test)\n",
        "\n",
        "# Multiply the output by 100 and convert it to integers\n",
        "prediction_int = (prediction * 100).astype(int)\n",
        "\n",
        "# Print the result\n",
        "print(prediction_int)"
      ],
      "metadata": {
        "id": "Fnz80C4AK50x"
      },
      "execution_count": null,
      "outputs": []
    },
    {
      "cell_type": "code",
      "source": [],
      "metadata": {
        "id": "7rciIu1iK6Vr"
      },
      "execution_count": null,
      "outputs": []
    }
  ]
}